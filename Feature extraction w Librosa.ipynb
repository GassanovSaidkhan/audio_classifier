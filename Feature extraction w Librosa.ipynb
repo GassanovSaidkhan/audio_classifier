{
 "cells": [
  {
   "cell_type": "code",
   "execution_count": 90,
   "id": "2d5edd2e",
   "metadata": {},
   "outputs": [],
   "source": [
    "import os\n",
    "\n",
    "import pandas as pd\n",
    "import numpy as np\n",
    "import matplotlib.pyplot as plt\n",
    "\n",
    "from tqdm import tqdm\n",
    "\n",
    "import librosa\n",
    "from librosa import display as dp\n",
    "from scipy.io import wavfile"
   ]
  },
  {
   "cell_type": "code",
   "execution_count": 91,
   "id": "972405af",
   "metadata": {},
   "outputs": [],
   "source": [
    "root = '../../ml_course/saidkhan_venv/data/'\n",
    "files = os.listdir(root)"
   ]
  },
  {
   "cell_type": "code",
   "execution_count": 92,
   "id": "dc00e406",
   "metadata": {},
   "outputs": [
    {
     "name": "stdout",
     "output_type": "stream",
     "text": [
      "3000 FILES IN FOLDER\n"
     ]
    }
   ],
   "source": [
    "print(f'{len(files)} FILES IN FOLDER')"
   ]
  },
  {
   "cell_type": "code",
   "execution_count": null,
   "id": "21448963",
   "metadata": {},
   "outputs": [],
   "source": [
    "def extract_spectrogram(y, sr=8000, n_fft=None) -> np.array:\n",
    "    '''\n",
    "    y = time series audio\n",
    "    sr = sample rate (8000 by default)\n",
    "    \n",
    "    returns: np.array of spectrogram\n",
    "    '''\n",
    "    if n_fft:\n",
    "        stft = librosa.stft(y, n_fft=n_fft)\n",
    "    else:\n",
    "        stft = librosa.stft(y)\n",
    "    spectrogram = np.abs(stft)**2\n",
    "    return spectrogram\n",
    "\n",
    "def extract_melspectrogram(y, sr=8000, n_fft=2048, hop_length=512, win_length=None) -> np.array:\n",
    "    '''\n",
    "    y = time series audio\n",
    "    sr = sample rate (8000 by default)\n",
    "    TODO: define other parameters\n",
    "    \n",
    "    returns: np.array of melspectrogram\n",
    "    '''\n",
    "    melspectrogram = librosa.feature.melspectrogram(y=y, sr=sr)\n",
    "    return melspectrogram\n",
    "\n",
    "def extract_mfcc(y, sr=8000, n_mfcc=20):\n",
    "    '''\n",
    "    y = time series audio\n",
    "    sr = sample rate (8000 by default)\n",
    "    n_mfcc = numner of MFCC\n",
    "    \n",
    "    returns: np.array of mfcc\n",
    "    '''\n",
    "    mfcc = librosa.feature.mfcc(y=y, sr=sr)\n",
    "    return mfcc\n",
    "\n",
    "def extract_rms(y):\n",
    "    \n",
    "    rms = librosa.feature.rms(y=y) \n",
    "    return rms\n",
    "\n",
    "def extract_poly_feutures(y):\n",
    "    \n",
    "    poly = librosa.feature.poly_features(y=y) \n",
    "    return poly\n",
    "\n",
    "def extract_chroma_stft(y, sr = 8000, n_fft = 2048):\n",
    "    \n",
    "    chroma = librosa.feature.chroma_stft(y=y) \n",
    "    return chroma"
   ]
  },
  {
   "cell_type": "code",
   "execution_count": null,
   "id": "6adc9778",
   "metadata": {},
   "outputs": [],
   "source": [
    "def cut_if_necessary(y=y, size=8000):\n",
    "    '''\n",
    "    cuts audios with duration over size\n",
    "    y = time series audio\n",
    "    size = duration of audio that we need (i.g. if sr=8000Hz then 1sec=8000, 0.5=4000)\n",
    "    returns: np.array of y\n",
    "    '''\n",
    "    if y.shape[0] > size:\n",
    "        y = y[:size]\n",
    "\n",
    "    return y\n",
    "\n",
    "def pad_if_necessary(y=y, size=8000):\n",
    "    '''\n",
    "    pads audios with duration less than size with zeros\n",
    "    y = time series audio\n",
    "    size = duration of audio that we need (i.g. if sr=8000Hz then 1sec=8000, 0.5=4000)\n",
    "    returns: np.array of y\n",
    "    '''\n",
    "    if y.shape[0] < size:\n",
    "        diff = size - y.shape[0]\n",
    "        zeros = np.zeros((diff))\n",
    "        y = np.concatenate([y, zeros])\n",
    "\n",
    "    return y"
   ]
  },
  {
   "cell_type": "code",
   "execution_count": null,
   "id": "48625f13",
   "metadata": {},
   "outputs": [],
   "source": [
    "def save_numpy(root_path, fname, arr):\n",
    "    dst_path = os.path.join(root_path, fname)\n",
    "    np.save(dst_path, arr)"
   ]
  },
  {
   "cell_type": "code",
   "execution_count": null,
   "id": "62c86318",
   "metadata": {},
   "outputs": [],
   "source": [
    "dst = 'features'\n",
    "dst_spec = 'spectrograms'\n",
    "dst_melspecs = 'melspectrograms'\n",
    "dst_mfcc = 'mfcc'\n",
    "dst_rms = 'rms'\n",
    "dst_poly = 'poly feature'\n",
    "dst_chroma = 'chroma stft'"
   ]
  },
  {
   "cell_type": "code",
   "execution_count": null,
   "id": "84be62bf",
   "metadata": {},
   "outputs": [],
   "source": [
    "os.makedirs(dst, exist_ok=True)\n",
    "os.makedirs(os.path.join(dst, dst_melspecs), exist_ok=True)\n",
    "os.makedirs(os.path.join(dst, dst_mfcc), exist_ok=True)\n",
    "os.makedirs(os.path.join(dst, dst_spec), exist_ok=True)\n",
    "os.makedirs(os.path.join(dst, dst_rms), exist_ok=True)\n",
    "os.makedirs(os.path.join(dst, dst_poly), exist_ok=True)\n",
    "os.makedirs(os.path.join(dst, dst_chroma), exist_ok=True)"
   ]
  },
  {
   "cell_type": "code",
   "execution_count": null,
   "id": "d1e0c788",
   "metadata": {},
   "outputs": [],
   "source": [
    "for f in tqdm(files):\n",
    "    fpath = os.path.join(root, f)\n",
    "    fname = os.path.splitext(f)[0]\n",
    "    \n",
    "    y, sr = librosa.load(fpath, sr=None)\n",
    "    \n",
    "    y = cut_if_necessary(y)\n",
    "    \n",
    "    spec = extract_spectrogram(y)\n",
    "    melpec = extract_melspectrogram(y)\n",
    "    mfcc = extract_mfcc(y)\n",
    "    rms = extract_rms(y)\n",
    "    poly = extract_poly_feutures(y)\n",
    "    chroma = extract_chroma_stft(y)\n",
    "    \n",
    "    save_numpy(os.path.join(dst, dst_spec), fname=fname, arr=spec)\n",
    "    save_numpy(os.path.join(dst, dst_melspecs), fname=fname, arr=melpec)\n",
    "    save_numpy(os.path.join(dst, dst_mfcc), fname=fname, arr=mfcc)\n",
    "    save_numpy(os.path.join(dst, dst_rms), fname=fname, arr=contr)\n",
    "    save_numpy(os.path.join(dst, dst_poly), fname=fname, arr=contr)\n",
    "    save_numpy(os.path.join(dst, dst_chroma), fname=fname, arr=contr)"
   ]
  },
  {
   "cell_type": "code",
   "execution_count": null,
   "id": "66788163",
   "metadata": {},
   "outputs": [],
   "source": []
  }
 ],
 "metadata": {
  "kernelspec": {
   "display_name": "Python 3 (ipykernel)",
   "language": "python",
   "name": "python3"
  },
  "language_info": {
   "codemirror_mode": {
    "name": "ipython",
    "version": 3
   },
   "file_extension": ".py",
   "mimetype": "text/x-python",
   "name": "python",
   "nbconvert_exporter": "python",
   "pygments_lexer": "ipython3",
   "version": "3.10.0"
  }
 },
 "nbformat": 4,
 "nbformat_minor": 5
}
